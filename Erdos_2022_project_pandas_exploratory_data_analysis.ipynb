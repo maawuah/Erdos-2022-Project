{
  "nbformat": 4,
  "nbformat_minor": 0,
  "metadata": {
    "colab": {
      "name": "Erdos-2022-project-pandas-exploratory-data-analysis.ipynb",
      "provenance": [],
      "collapsed_sections": [],
      "mount_file_id": "1amk3XYsAcrhTSi_JL4i2Q6UZ6TlSgQG5",
      "authorship_tag": "ABX9TyOVHE9TKWk/NkLYJYOywjEE",
      "include_colab_link": true
    },
    "kernelspec": {
      "name": "python3",
      "display_name": "Python 3"
    },
    "language_info": {
      "name": "python"
    }
  },
  "cells": [
    {
      "cell_type": "markdown",
      "metadata": {
        "id": "view-in-github",
        "colab_type": "text"
      },
      "source": [
        "<a href=\"https://colab.research.google.com/github/maawuah/Erdos-2022-Project/blob/main/Erdos_2022_project_pandas_exploratory_data_analysis.ipynb\" target=\"_parent\"><img src=\"https://colab.research.google.com/assets/colab-badge.svg\" alt=\"Open In Colab\"/></a>"
      ]
    },
    {
      "cell_type": "code",
      "execution_count": null,
      "metadata": {
        "colab": {
          "base_uri": "https://localhost:8080/"
        },
        "id": "I6UY4DgEO4bm",
        "outputId": "897e3dcb-a0b4-4c9d-e639-afdd85377a7b"
      },
      "outputs": [
        {
          "output_type": "stream",
          "name": "stdout",
          "text": [
            "Mounted at /content/drive\n"
          ]
        }
      ],
      "source": [
        "# Read and Import .cvs file\n",
        "\n",
        "from google.colab import drive\n",
        "drive.mount ('/content/drive')"
      ]
    },
    {
      "cell_type": "code",
      "source": [
        "import pandas as pd\n",
        "import numpy as np\n",
        "import matplotlib.pyplot as plt\n",
        "\n",
        "\n",
        "path = \"/content/drive/MyDrive/1985-2022.csv\"\n",
        "df = pd.read_csv(path)\n",
        "\n",
        "# Dataset is now stored in a Pandas dataframe\n",
        "\n",
        "# Describe the dataset\n",
        "\n",
        "df.describe\n"
      ],
      "metadata": {
        "colab": {
          "base_uri": "https://localhost:8080/"
        },
        "id": "UKe3LWCqio8X",
        "outputId": "3d34d349-c37c-43ec-bec0-4f5973af1c79"
      },
      "execution_count": null,
      "outputs": [
        {
          "output_type": "execute_result",
          "data": {
            "text/plain": [
              "<bound method NDFrame.describe of              Year                                          Show_name  \\\n",
              "0      09-06-1985                                        42nd Street   \n",
              "1      09-06-1985                                      A Chorus Line   \n",
              "2      09-06-1985                                     Aren't We All?   \n",
              "3      09-06-1985                                   Arms and the Man   \n",
              "4      09-06-1985                                              As Is   \n",
              "...           ...                                                ...   \n",
              "47715  08-05-2022                           The Phantom of the Opera   \n",
              "47716  08-05-2022                              The Skin of Our Teeth   \n",
              "47717  08-05-2022                      Tina: The Tina Turner Musical   \n",
              "47718  08-05-2022                                             Wicked   \n",
              "47719  08-05-2022  for colored girls who have considered suicide/...   \n",
              "\n",
              "       Potential_Gross  Difference  Average_ticket  Seats_Sold  \\\n",
              "0                  0.0        0.00           30.42        9281   \n",
              "1                  0.0        0.00           27.25        8167   \n",
              "2                  0.0        0.00           33.75        7386   \n",
              "3                  0.0        0.00           20.87        4586   \n",
              "4                  0.0        0.00           20.78        2938   \n",
              "...                ...         ...             ...         ...   \n",
              "47715         742308.2   117127.78           94.60        7847   \n",
              "47716         174481.0    33370.00           52.81        3304   \n",
              "47717        1065578.2   193232.80          122.56        8694   \n",
              "47718        1341127.0   144364.00          119.06       11264   \n",
              "47719         159092.9   -91081.60           65.71        2421   \n",
              "\n",
              "       Seats_in_theater  Previews   %cap  diff_cap  \n",
              "0                  1655         8  70.10      0.00  \n",
              "1                  1472         8  69.35      0.00  \n",
              "2                  1088         8  84.86      0.00  \n",
              "3                   682         8  84.05      0.00  \n",
              "4                   684         8  53.69      0.00  \n",
              "...                 ...       ...    ...       ...  \n",
              "47715              1605         8  61.11      9.18  \n",
              "47716              1058         8  39.04     -8.27  \n",
              "47717              1478         8  73.53     14.13  \n",
              "47718              1807         8  77.92      4.53  \n",
              "47719               773         8  39.15    -11.77  \n",
              "\n",
              "[47720 rows x 10 columns]>"
            ]
          },
          "metadata": {},
          "execution_count": 17
        }
      ]
    },
    {
      "cell_type": "code",
      "source": [
        "df"
      ],
      "metadata": {
        "colab": {
          "base_uri": "https://localhost:8080/",
          "height": 468
        },
        "id": "JAXpNkT5rbRI",
        "outputId": "2a60abaf-6e06-4b4f-9233-7fc7fc9f68e2"
      },
      "execution_count": 38,
      "outputs": [
        {
          "output_type": "execute_result",
          "data": {
            "text/plain": [
              "             Year                                          Show_name  \\\n",
              "0      09-06-1985                                        42nd Street   \n",
              "1      09-06-1985                                      A Chorus Line   \n",
              "2      09-06-1985                                     Aren't We All?   \n",
              "3      09-06-1985                                   Arms and the Man   \n",
              "4      09-06-1985                                              As Is   \n",
              "...           ...                                                ...   \n",
              "47715  08-05-2022                           The Phantom of the Opera   \n",
              "47716  08-05-2022                              The Skin of Our Teeth   \n",
              "47717  08-05-2022                      Tina: The Tina Turner Musical   \n",
              "47718  08-05-2022                                             Wicked   \n",
              "47719  08-05-2022  for colored girls who have considered suicide/...   \n",
              "\n",
              "       Potential_Gross  Difference  Average_ticket  Seats_Sold  \\\n",
              "0                  0.0        0.00           30.42        9281   \n",
              "1                  0.0        0.00           27.25        8167   \n",
              "2                  0.0        0.00           33.75        7386   \n",
              "3                  0.0        0.00           20.87        4586   \n",
              "4                  0.0        0.00           20.78        2938   \n",
              "...                ...         ...             ...         ...   \n",
              "47715         742308.2   117127.78           94.60        7847   \n",
              "47716         174481.0    33370.00           52.81        3304   \n",
              "47717        1065578.2   193232.80          122.56        8694   \n",
              "47718        1341127.0   144364.00          119.06       11264   \n",
              "47719         159092.9   -91081.60           65.71        2421   \n",
              "\n",
              "       Seats_in_theater  Previews   %cap  diff_cap  \n",
              "0                  1655         8  70.10      0.00  \n",
              "1                  1472         8  69.35      0.00  \n",
              "2                  1088         8  84.86      0.00  \n",
              "3                   682         8  84.05      0.00  \n",
              "4                   684         8  53.69      0.00  \n",
              "...                 ...       ...    ...       ...  \n",
              "47715              1605         8  61.11      9.18  \n",
              "47716              1058         8  39.04     -8.27  \n",
              "47717              1478         8  73.53     14.13  \n",
              "47718              1807         8  77.92      4.53  \n",
              "47719               773         8  39.15    -11.77  \n",
              "\n",
              "[47720 rows x 10 columns]"
            ],
            "text/html": [
              "\n",
              "  <div id=\"df-de31e85f-6d68-4abc-a791-bbb879fb5893\">\n",
              "    <div class=\"colab-df-container\">\n",
              "      <div>\n",
              "<style scoped>\n",
              "    .dataframe tbody tr th:only-of-type {\n",
              "        vertical-align: middle;\n",
              "    }\n",
              "\n",
              "    .dataframe tbody tr th {\n",
              "        vertical-align: top;\n",
              "    }\n",
              "\n",
              "    .dataframe thead th {\n",
              "        text-align: right;\n",
              "    }\n",
              "</style>\n",
              "<table border=\"1\" class=\"dataframe\">\n",
              "  <thead>\n",
              "    <tr style=\"text-align: right;\">\n",
              "      <th></th>\n",
              "      <th>Year</th>\n",
              "      <th>Show_name</th>\n",
              "      <th>Potential_Gross</th>\n",
              "      <th>Difference</th>\n",
              "      <th>Average_ticket</th>\n",
              "      <th>Seats_Sold</th>\n",
              "      <th>Seats_in_theater</th>\n",
              "      <th>Previews</th>\n",
              "      <th>%cap</th>\n",
              "      <th>diff_cap</th>\n",
              "    </tr>\n",
              "  </thead>\n",
              "  <tbody>\n",
              "    <tr>\n",
              "      <th>0</th>\n",
              "      <td>09-06-1985</td>\n",
              "      <td>42nd Street</td>\n",
              "      <td>0.0</td>\n",
              "      <td>0.00</td>\n",
              "      <td>30.42</td>\n",
              "      <td>9281</td>\n",
              "      <td>1655</td>\n",
              "      <td>8</td>\n",
              "      <td>70.10</td>\n",
              "      <td>0.00</td>\n",
              "    </tr>\n",
              "    <tr>\n",
              "      <th>1</th>\n",
              "      <td>09-06-1985</td>\n",
              "      <td>A Chorus Line</td>\n",
              "      <td>0.0</td>\n",
              "      <td>0.00</td>\n",
              "      <td>27.25</td>\n",
              "      <td>8167</td>\n",
              "      <td>1472</td>\n",
              "      <td>8</td>\n",
              "      <td>69.35</td>\n",
              "      <td>0.00</td>\n",
              "    </tr>\n",
              "    <tr>\n",
              "      <th>2</th>\n",
              "      <td>09-06-1985</td>\n",
              "      <td>Aren't We All?</td>\n",
              "      <td>0.0</td>\n",
              "      <td>0.00</td>\n",
              "      <td>33.75</td>\n",
              "      <td>7386</td>\n",
              "      <td>1088</td>\n",
              "      <td>8</td>\n",
              "      <td>84.86</td>\n",
              "      <td>0.00</td>\n",
              "    </tr>\n",
              "    <tr>\n",
              "      <th>3</th>\n",
              "      <td>09-06-1985</td>\n",
              "      <td>Arms and the Man</td>\n",
              "      <td>0.0</td>\n",
              "      <td>0.00</td>\n",
              "      <td>20.87</td>\n",
              "      <td>4586</td>\n",
              "      <td>682</td>\n",
              "      <td>8</td>\n",
              "      <td>84.05</td>\n",
              "      <td>0.00</td>\n",
              "    </tr>\n",
              "    <tr>\n",
              "      <th>4</th>\n",
              "      <td>09-06-1985</td>\n",
              "      <td>As Is</td>\n",
              "      <td>0.0</td>\n",
              "      <td>0.00</td>\n",
              "      <td>20.78</td>\n",
              "      <td>2938</td>\n",
              "      <td>684</td>\n",
              "      <td>8</td>\n",
              "      <td>53.69</td>\n",
              "      <td>0.00</td>\n",
              "    </tr>\n",
              "    <tr>\n",
              "      <th>...</th>\n",
              "      <td>...</td>\n",
              "      <td>...</td>\n",
              "      <td>...</td>\n",
              "      <td>...</td>\n",
              "      <td>...</td>\n",
              "      <td>...</td>\n",
              "      <td>...</td>\n",
              "      <td>...</td>\n",
              "      <td>...</td>\n",
              "      <td>...</td>\n",
              "    </tr>\n",
              "    <tr>\n",
              "      <th>47715</th>\n",
              "      <td>08-05-2022</td>\n",
              "      <td>The Phantom of the Opera</td>\n",
              "      <td>742308.2</td>\n",
              "      <td>117127.78</td>\n",
              "      <td>94.60</td>\n",
              "      <td>7847</td>\n",
              "      <td>1605</td>\n",
              "      <td>8</td>\n",
              "      <td>61.11</td>\n",
              "      <td>9.18</td>\n",
              "    </tr>\n",
              "    <tr>\n",
              "      <th>47716</th>\n",
              "      <td>08-05-2022</td>\n",
              "      <td>The Skin of Our Teeth</td>\n",
              "      <td>174481.0</td>\n",
              "      <td>33370.00</td>\n",
              "      <td>52.81</td>\n",
              "      <td>3304</td>\n",
              "      <td>1058</td>\n",
              "      <td>8</td>\n",
              "      <td>39.04</td>\n",
              "      <td>-8.27</td>\n",
              "    </tr>\n",
              "    <tr>\n",
              "      <th>47717</th>\n",
              "      <td>08-05-2022</td>\n",
              "      <td>Tina: The Tina Turner Musical</td>\n",
              "      <td>1065578.2</td>\n",
              "      <td>193232.80</td>\n",
              "      <td>122.56</td>\n",
              "      <td>8694</td>\n",
              "      <td>1478</td>\n",
              "      <td>8</td>\n",
              "      <td>73.53</td>\n",
              "      <td>14.13</td>\n",
              "    </tr>\n",
              "    <tr>\n",
              "      <th>47718</th>\n",
              "      <td>08-05-2022</td>\n",
              "      <td>Wicked</td>\n",
              "      <td>1341127.0</td>\n",
              "      <td>144364.00</td>\n",
              "      <td>119.06</td>\n",
              "      <td>11264</td>\n",
              "      <td>1807</td>\n",
              "      <td>8</td>\n",
              "      <td>77.92</td>\n",
              "      <td>4.53</td>\n",
              "    </tr>\n",
              "    <tr>\n",
              "      <th>47719</th>\n",
              "      <td>08-05-2022</td>\n",
              "      <td>for colored girls who have considered suicide/...</td>\n",
              "      <td>159092.9</td>\n",
              "      <td>-91081.60</td>\n",
              "      <td>65.71</td>\n",
              "      <td>2421</td>\n",
              "      <td>773</td>\n",
              "      <td>8</td>\n",
              "      <td>39.15</td>\n",
              "      <td>-11.77</td>\n",
              "    </tr>\n",
              "  </tbody>\n",
              "</table>\n",
              "<p>47720 rows × 10 columns</p>\n",
              "</div>\n",
              "      <button class=\"colab-df-convert\" onclick=\"convertToInteractive('df-de31e85f-6d68-4abc-a791-bbb879fb5893')\"\n",
              "              title=\"Convert this dataframe to an interactive table.\"\n",
              "              style=\"display:none;\">\n",
              "        \n",
              "  <svg xmlns=\"http://www.w3.org/2000/svg\" height=\"24px\"viewBox=\"0 0 24 24\"\n",
              "       width=\"24px\">\n",
              "    <path d=\"M0 0h24v24H0V0z\" fill=\"none\"/>\n",
              "    <path d=\"M18.56 5.44l.94 2.06.94-2.06 2.06-.94-2.06-.94-.94-2.06-.94 2.06-2.06.94zm-11 1L8.5 8.5l.94-2.06 2.06-.94-2.06-.94L8.5 2.5l-.94 2.06-2.06.94zm10 10l.94 2.06.94-2.06 2.06-.94-2.06-.94-.94-2.06-.94 2.06-2.06.94z\"/><path d=\"M17.41 7.96l-1.37-1.37c-.4-.4-.92-.59-1.43-.59-.52 0-1.04.2-1.43.59L10.3 9.45l-7.72 7.72c-.78.78-.78 2.05 0 2.83L4 21.41c.39.39.9.59 1.41.59.51 0 1.02-.2 1.41-.59l7.78-7.78 2.81-2.81c.8-.78.8-2.07 0-2.86zM5.41 20L4 18.59l7.72-7.72 1.47 1.35L5.41 20z\"/>\n",
              "  </svg>\n",
              "      </button>\n",
              "      \n",
              "  <style>\n",
              "    .colab-df-container {\n",
              "      display:flex;\n",
              "      flex-wrap:wrap;\n",
              "      gap: 12px;\n",
              "    }\n",
              "\n",
              "    .colab-df-convert {\n",
              "      background-color: #E8F0FE;\n",
              "      border: none;\n",
              "      border-radius: 50%;\n",
              "      cursor: pointer;\n",
              "      display: none;\n",
              "      fill: #1967D2;\n",
              "      height: 32px;\n",
              "      padding: 0 0 0 0;\n",
              "      width: 32px;\n",
              "    }\n",
              "\n",
              "    .colab-df-convert:hover {\n",
              "      background-color: #E2EBFA;\n",
              "      box-shadow: 0px 1px 2px rgba(60, 64, 67, 0.3), 0px 1px 3px 1px rgba(60, 64, 67, 0.15);\n",
              "      fill: #174EA6;\n",
              "    }\n",
              "\n",
              "    [theme=dark] .colab-df-convert {\n",
              "      background-color: #3B4455;\n",
              "      fill: #D2E3FC;\n",
              "    }\n",
              "\n",
              "    [theme=dark] .colab-df-convert:hover {\n",
              "      background-color: #434B5C;\n",
              "      box-shadow: 0px 1px 3px 1px rgba(0, 0, 0, 0.15);\n",
              "      filter: drop-shadow(0px 1px 2px rgba(0, 0, 0, 0.3));\n",
              "      fill: #FFFFFF;\n",
              "    }\n",
              "  </style>\n",
              "\n",
              "      <script>\n",
              "        const buttonEl =\n",
              "          document.querySelector('#df-de31e85f-6d68-4abc-a791-bbb879fb5893 button.colab-df-convert');\n",
              "        buttonEl.style.display =\n",
              "          google.colab.kernel.accessAllowed ? 'block' : 'none';\n",
              "\n",
              "        async function convertToInteractive(key) {\n",
              "          const element = document.querySelector('#df-de31e85f-6d68-4abc-a791-bbb879fb5893');\n",
              "          const dataTable =\n",
              "            await google.colab.kernel.invokeFunction('convertToInteractive',\n",
              "                                                     [key], {});\n",
              "          if (!dataTable) return;\n",
              "\n",
              "          const docLinkHtml = 'Like what you see? Visit the ' +\n",
              "            '<a target=\"_blank\" href=https://colab.research.google.com/notebooks/data_table.ipynb>data table notebook</a>'\n",
              "            + ' to learn more about interactive tables.';\n",
              "          element.innerHTML = '';\n",
              "          dataTable['output_type'] = 'display_data';\n",
              "          await google.colab.output.renderOutput(dataTable, element);\n",
              "          const docLink = document.createElement('div');\n",
              "          docLink.innerHTML = docLinkHtml;\n",
              "          element.appendChild(docLink);\n",
              "        }\n",
              "      </script>\n",
              "    </div>\n",
              "  </div>\n",
              "  "
            ]
          },
          "metadata": {},
          "execution_count": 38
        }
      ]
    },
    {
      "cell_type": "code",
      "source": [
        "pd.set_option('display.max_rows', df.shape[0]+1)"
      ],
      "metadata": {
        "id": "nU9aRkeCruEl"
      },
      "execution_count": null,
      "outputs": []
    },
    {
      "cell_type": "code",
      "source": [
        "df"
      ],
      "metadata": {
        "colab": {
          "base_uri": "https://localhost:8080/",
          "height": 468
        },
        "id": "cWEhie_BsMVc",
        "outputId": "0e19d84e-0833-4aa4-96d2-0f8562064391"
      },
      "execution_count": 37,
      "outputs": [
        {
          "output_type": "execute_result",
          "data": {
            "text/plain": [
              "             Year                                          Show_name  \\\n",
              "0      09-06-1985                                        42nd Street   \n",
              "1      09-06-1985                                      A Chorus Line   \n",
              "2      09-06-1985                                     Aren't We All?   \n",
              "3      09-06-1985                                   Arms and the Man   \n",
              "4      09-06-1985                                              As Is   \n",
              "...           ...                                                ...   \n",
              "47715  08-05-2022                           The Phantom of the Opera   \n",
              "47716  08-05-2022                              The Skin of Our Teeth   \n",
              "47717  08-05-2022                      Tina: The Tina Turner Musical   \n",
              "47718  08-05-2022                                             Wicked   \n",
              "47719  08-05-2022  for colored girls who have considered suicide/...   \n",
              "\n",
              "       Potential_Gross  Difference  Average_ticket  Seats_Sold  \\\n",
              "0                  0.0        0.00           30.42        9281   \n",
              "1                  0.0        0.00           27.25        8167   \n",
              "2                  0.0        0.00           33.75        7386   \n",
              "3                  0.0        0.00           20.87        4586   \n",
              "4                  0.0        0.00           20.78        2938   \n",
              "...                ...         ...             ...         ...   \n",
              "47715         742308.2   117127.78           94.60        7847   \n",
              "47716         174481.0    33370.00           52.81        3304   \n",
              "47717        1065578.2   193232.80          122.56        8694   \n",
              "47718        1341127.0   144364.00          119.06       11264   \n",
              "47719         159092.9   -91081.60           65.71        2421   \n",
              "\n",
              "       Seats_in_theater  Previews   %cap  diff_cap  \n",
              "0                  1655         8  70.10      0.00  \n",
              "1                  1472         8  69.35      0.00  \n",
              "2                  1088         8  84.86      0.00  \n",
              "3                   682         8  84.05      0.00  \n",
              "4                   684         8  53.69      0.00  \n",
              "...                 ...       ...    ...       ...  \n",
              "47715              1605         8  61.11      9.18  \n",
              "47716              1058         8  39.04     -8.27  \n",
              "47717              1478         8  73.53     14.13  \n",
              "47718              1807         8  77.92      4.53  \n",
              "47719               773         8  39.15    -11.77  \n",
              "\n",
              "[47720 rows x 10 columns]"
            ],
            "text/html": [
              "\n",
              "  <div id=\"df-2e49ae49-bdd5-48fd-88a0-9c46b905a65e\">\n",
              "    <div class=\"colab-df-container\">\n",
              "      <div>\n",
              "<style scoped>\n",
              "    .dataframe tbody tr th:only-of-type {\n",
              "        vertical-align: middle;\n",
              "    }\n",
              "\n",
              "    .dataframe tbody tr th {\n",
              "        vertical-align: top;\n",
              "    }\n",
              "\n",
              "    .dataframe thead th {\n",
              "        text-align: right;\n",
              "    }\n",
              "</style>\n",
              "<table border=\"1\" class=\"dataframe\">\n",
              "  <thead>\n",
              "    <tr style=\"text-align: right;\">\n",
              "      <th></th>\n",
              "      <th>Year</th>\n",
              "      <th>Show_name</th>\n",
              "      <th>Potential_Gross</th>\n",
              "      <th>Difference</th>\n",
              "      <th>Average_ticket</th>\n",
              "      <th>Seats_Sold</th>\n",
              "      <th>Seats_in_theater</th>\n",
              "      <th>Previews</th>\n",
              "      <th>%cap</th>\n",
              "      <th>diff_cap</th>\n",
              "    </tr>\n",
              "  </thead>\n",
              "  <tbody>\n",
              "    <tr>\n",
              "      <th>0</th>\n",
              "      <td>09-06-1985</td>\n",
              "      <td>42nd Street</td>\n",
              "      <td>0.0</td>\n",
              "      <td>0.00</td>\n",
              "      <td>30.42</td>\n",
              "      <td>9281</td>\n",
              "      <td>1655</td>\n",
              "      <td>8</td>\n",
              "      <td>70.10</td>\n",
              "      <td>0.00</td>\n",
              "    </tr>\n",
              "    <tr>\n",
              "      <th>1</th>\n",
              "      <td>09-06-1985</td>\n",
              "      <td>A Chorus Line</td>\n",
              "      <td>0.0</td>\n",
              "      <td>0.00</td>\n",
              "      <td>27.25</td>\n",
              "      <td>8167</td>\n",
              "      <td>1472</td>\n",
              "      <td>8</td>\n",
              "      <td>69.35</td>\n",
              "      <td>0.00</td>\n",
              "    </tr>\n",
              "    <tr>\n",
              "      <th>2</th>\n",
              "      <td>09-06-1985</td>\n",
              "      <td>Aren't We All?</td>\n",
              "      <td>0.0</td>\n",
              "      <td>0.00</td>\n",
              "      <td>33.75</td>\n",
              "      <td>7386</td>\n",
              "      <td>1088</td>\n",
              "      <td>8</td>\n",
              "      <td>84.86</td>\n",
              "      <td>0.00</td>\n",
              "    </tr>\n",
              "    <tr>\n",
              "      <th>3</th>\n",
              "      <td>09-06-1985</td>\n",
              "      <td>Arms and the Man</td>\n",
              "      <td>0.0</td>\n",
              "      <td>0.00</td>\n",
              "      <td>20.87</td>\n",
              "      <td>4586</td>\n",
              "      <td>682</td>\n",
              "      <td>8</td>\n",
              "      <td>84.05</td>\n",
              "      <td>0.00</td>\n",
              "    </tr>\n",
              "    <tr>\n",
              "      <th>4</th>\n",
              "      <td>09-06-1985</td>\n",
              "      <td>As Is</td>\n",
              "      <td>0.0</td>\n",
              "      <td>0.00</td>\n",
              "      <td>20.78</td>\n",
              "      <td>2938</td>\n",
              "      <td>684</td>\n",
              "      <td>8</td>\n",
              "      <td>53.69</td>\n",
              "      <td>0.00</td>\n",
              "    </tr>\n",
              "    <tr>\n",
              "      <th>...</th>\n",
              "      <td>...</td>\n",
              "      <td>...</td>\n",
              "      <td>...</td>\n",
              "      <td>...</td>\n",
              "      <td>...</td>\n",
              "      <td>...</td>\n",
              "      <td>...</td>\n",
              "      <td>...</td>\n",
              "      <td>...</td>\n",
              "      <td>...</td>\n",
              "    </tr>\n",
              "    <tr>\n",
              "      <th>47715</th>\n",
              "      <td>08-05-2022</td>\n",
              "      <td>The Phantom of the Opera</td>\n",
              "      <td>742308.2</td>\n",
              "      <td>117127.78</td>\n",
              "      <td>94.60</td>\n",
              "      <td>7847</td>\n",
              "      <td>1605</td>\n",
              "      <td>8</td>\n",
              "      <td>61.11</td>\n",
              "      <td>9.18</td>\n",
              "    </tr>\n",
              "    <tr>\n",
              "      <th>47716</th>\n",
              "      <td>08-05-2022</td>\n",
              "      <td>The Skin of Our Teeth</td>\n",
              "      <td>174481.0</td>\n",
              "      <td>33370.00</td>\n",
              "      <td>52.81</td>\n",
              "      <td>3304</td>\n",
              "      <td>1058</td>\n",
              "      <td>8</td>\n",
              "      <td>39.04</td>\n",
              "      <td>-8.27</td>\n",
              "    </tr>\n",
              "    <tr>\n",
              "      <th>47717</th>\n",
              "      <td>08-05-2022</td>\n",
              "      <td>Tina: The Tina Turner Musical</td>\n",
              "      <td>1065578.2</td>\n",
              "      <td>193232.80</td>\n",
              "      <td>122.56</td>\n",
              "      <td>8694</td>\n",
              "      <td>1478</td>\n",
              "      <td>8</td>\n",
              "      <td>73.53</td>\n",
              "      <td>14.13</td>\n",
              "    </tr>\n",
              "    <tr>\n",
              "      <th>47718</th>\n",
              "      <td>08-05-2022</td>\n",
              "      <td>Wicked</td>\n",
              "      <td>1341127.0</td>\n",
              "      <td>144364.00</td>\n",
              "      <td>119.06</td>\n",
              "      <td>11264</td>\n",
              "      <td>1807</td>\n",
              "      <td>8</td>\n",
              "      <td>77.92</td>\n",
              "      <td>4.53</td>\n",
              "    </tr>\n",
              "    <tr>\n",
              "      <th>47719</th>\n",
              "      <td>08-05-2022</td>\n",
              "      <td>for colored girls who have considered suicide/...</td>\n",
              "      <td>159092.9</td>\n",
              "      <td>-91081.60</td>\n",
              "      <td>65.71</td>\n",
              "      <td>2421</td>\n",
              "      <td>773</td>\n",
              "      <td>8</td>\n",
              "      <td>39.15</td>\n",
              "      <td>-11.77</td>\n",
              "    </tr>\n",
              "  </tbody>\n",
              "</table>\n",
              "<p>47720 rows × 10 columns</p>\n",
              "</div>\n",
              "      <button class=\"colab-df-convert\" onclick=\"convertToInteractive('df-2e49ae49-bdd5-48fd-88a0-9c46b905a65e')\"\n",
              "              title=\"Convert this dataframe to an interactive table.\"\n",
              "              style=\"display:none;\">\n",
              "        \n",
              "  <svg xmlns=\"http://www.w3.org/2000/svg\" height=\"24px\"viewBox=\"0 0 24 24\"\n",
              "       width=\"24px\">\n",
              "    <path d=\"M0 0h24v24H0V0z\" fill=\"none\"/>\n",
              "    <path d=\"M18.56 5.44l.94 2.06.94-2.06 2.06-.94-2.06-.94-.94-2.06-.94 2.06-2.06.94zm-11 1L8.5 8.5l.94-2.06 2.06-.94-2.06-.94L8.5 2.5l-.94 2.06-2.06.94zm10 10l.94 2.06.94-2.06 2.06-.94-2.06-.94-.94-2.06-.94 2.06-2.06.94z\"/><path d=\"M17.41 7.96l-1.37-1.37c-.4-.4-.92-.59-1.43-.59-.52 0-1.04.2-1.43.59L10.3 9.45l-7.72 7.72c-.78.78-.78 2.05 0 2.83L4 21.41c.39.39.9.59 1.41.59.51 0 1.02-.2 1.41-.59l7.78-7.78 2.81-2.81c.8-.78.8-2.07 0-2.86zM5.41 20L4 18.59l7.72-7.72 1.47 1.35L5.41 20z\"/>\n",
              "  </svg>\n",
              "      </button>\n",
              "      \n",
              "  <style>\n",
              "    .colab-df-container {\n",
              "      display:flex;\n",
              "      flex-wrap:wrap;\n",
              "      gap: 12px;\n",
              "    }\n",
              "\n",
              "    .colab-df-convert {\n",
              "      background-color: #E8F0FE;\n",
              "      border: none;\n",
              "      border-radius: 50%;\n",
              "      cursor: pointer;\n",
              "      display: none;\n",
              "      fill: #1967D2;\n",
              "      height: 32px;\n",
              "      padding: 0 0 0 0;\n",
              "      width: 32px;\n",
              "    }\n",
              "\n",
              "    .colab-df-convert:hover {\n",
              "      background-color: #E2EBFA;\n",
              "      box-shadow: 0px 1px 2px rgba(60, 64, 67, 0.3), 0px 1px 3px 1px rgba(60, 64, 67, 0.15);\n",
              "      fill: #174EA6;\n",
              "    }\n",
              "\n",
              "    [theme=dark] .colab-df-convert {\n",
              "      background-color: #3B4455;\n",
              "      fill: #D2E3FC;\n",
              "    }\n",
              "\n",
              "    [theme=dark] .colab-df-convert:hover {\n",
              "      background-color: #434B5C;\n",
              "      box-shadow: 0px 1px 3px 1px rgba(0, 0, 0, 0.15);\n",
              "      filter: drop-shadow(0px 1px 2px rgba(0, 0, 0, 0.3));\n",
              "      fill: #FFFFFF;\n",
              "    }\n",
              "  </style>\n",
              "\n",
              "      <script>\n",
              "        const buttonEl =\n",
              "          document.querySelector('#df-2e49ae49-bdd5-48fd-88a0-9c46b905a65e button.colab-df-convert');\n",
              "        buttonEl.style.display =\n",
              "          google.colab.kernel.accessAllowed ? 'block' : 'none';\n",
              "\n",
              "        async function convertToInteractive(key) {\n",
              "          const element = document.querySelector('#df-2e49ae49-bdd5-48fd-88a0-9c46b905a65e');\n",
              "          const dataTable =\n",
              "            await google.colab.kernel.invokeFunction('convertToInteractive',\n",
              "                                                     [key], {});\n",
              "          if (!dataTable) return;\n",
              "\n",
              "          const docLinkHtml = 'Like what you see? Visit the ' +\n",
              "            '<a target=\"_blank\" href=https://colab.research.google.com/notebooks/data_table.ipynb>data table notebook</a>'\n",
              "            + ' to learn more about interactive tables.';\n",
              "          element.innerHTML = '';\n",
              "          dataTable['output_type'] = 'display_data';\n",
              "          await google.colab.output.renderOutput(dataTable, element);\n",
              "          const docLink = document.createElement('div');\n",
              "          docLink.innerHTML = docLinkHtml;\n",
              "          element.appendChild(docLink);\n",
              "        }\n",
              "      </script>\n",
              "    </div>\n",
              "  </div>\n",
              "  "
            ]
          },
          "metadata": {},
          "execution_count": 37
        }
      ]
    },
    {
      "cell_type": "code",
      "source": [
        "pd.set_option('display.max_rows',10)"
      ],
      "metadata": {
        "id": "hKuUC1yBs4Mp"
      },
      "execution_count": null,
      "outputs": []
    },
    {
      "cell_type": "code",
      "source": [
        "df"
      ],
      "metadata": {
        "colab": {
          "base_uri": "https://localhost:8080/",
          "height": 468
        },
        "id": "JqU5jSzptNAo",
        "outputId": "20510459-d7f4-4514-a2c9-81e76e1df64e"
      },
      "execution_count": 36,
      "outputs": [
        {
          "output_type": "execute_result",
          "data": {
            "text/plain": [
              "             Year                                          Show_name  \\\n",
              "0      09-06-1985                                        42nd Street   \n",
              "1      09-06-1985                                      A Chorus Line   \n",
              "2      09-06-1985                                     Aren't We All?   \n",
              "3      09-06-1985                                   Arms and the Man   \n",
              "4      09-06-1985                                              As Is   \n",
              "...           ...                                                ...   \n",
              "47715  08-05-2022                           The Phantom of the Opera   \n",
              "47716  08-05-2022                              The Skin of Our Teeth   \n",
              "47717  08-05-2022                      Tina: The Tina Turner Musical   \n",
              "47718  08-05-2022                                             Wicked   \n",
              "47719  08-05-2022  for colored girls who have considered suicide/...   \n",
              "\n",
              "       Potential_Gross  Difference  Average_ticket  Seats_Sold  \\\n",
              "0                  0.0        0.00           30.42        9281   \n",
              "1                  0.0        0.00           27.25        8167   \n",
              "2                  0.0        0.00           33.75        7386   \n",
              "3                  0.0        0.00           20.87        4586   \n",
              "4                  0.0        0.00           20.78        2938   \n",
              "...                ...         ...             ...         ...   \n",
              "47715         742308.2   117127.78           94.60        7847   \n",
              "47716         174481.0    33370.00           52.81        3304   \n",
              "47717        1065578.2   193232.80          122.56        8694   \n",
              "47718        1341127.0   144364.00          119.06       11264   \n",
              "47719         159092.9   -91081.60           65.71        2421   \n",
              "\n",
              "       Seats_in_theater  Previews   %cap  diff_cap  \n",
              "0                  1655         8  70.10      0.00  \n",
              "1                  1472         8  69.35      0.00  \n",
              "2                  1088         8  84.86      0.00  \n",
              "3                   682         8  84.05      0.00  \n",
              "4                   684         8  53.69      0.00  \n",
              "...                 ...       ...    ...       ...  \n",
              "47715              1605         8  61.11      9.18  \n",
              "47716              1058         8  39.04     -8.27  \n",
              "47717              1478         8  73.53     14.13  \n",
              "47718              1807         8  77.92      4.53  \n",
              "47719               773         8  39.15    -11.77  \n",
              "\n",
              "[47720 rows x 10 columns]"
            ],
            "text/html": [
              "\n",
              "  <div id=\"df-f1e8c5bc-c879-4f14-9673-421ea04c568e\">\n",
              "    <div class=\"colab-df-container\">\n",
              "      <div>\n",
              "<style scoped>\n",
              "    .dataframe tbody tr th:only-of-type {\n",
              "        vertical-align: middle;\n",
              "    }\n",
              "\n",
              "    .dataframe tbody tr th {\n",
              "        vertical-align: top;\n",
              "    }\n",
              "\n",
              "    .dataframe thead th {\n",
              "        text-align: right;\n",
              "    }\n",
              "</style>\n",
              "<table border=\"1\" class=\"dataframe\">\n",
              "  <thead>\n",
              "    <tr style=\"text-align: right;\">\n",
              "      <th></th>\n",
              "      <th>Year</th>\n",
              "      <th>Show_name</th>\n",
              "      <th>Potential_Gross</th>\n",
              "      <th>Difference</th>\n",
              "      <th>Average_ticket</th>\n",
              "      <th>Seats_Sold</th>\n",
              "      <th>Seats_in_theater</th>\n",
              "      <th>Previews</th>\n",
              "      <th>%cap</th>\n",
              "      <th>diff_cap</th>\n",
              "    </tr>\n",
              "  </thead>\n",
              "  <tbody>\n",
              "    <tr>\n",
              "      <th>0</th>\n",
              "      <td>09-06-1985</td>\n",
              "      <td>42nd Street</td>\n",
              "      <td>0.0</td>\n",
              "      <td>0.00</td>\n",
              "      <td>30.42</td>\n",
              "      <td>9281</td>\n",
              "      <td>1655</td>\n",
              "      <td>8</td>\n",
              "      <td>70.10</td>\n",
              "      <td>0.00</td>\n",
              "    </tr>\n",
              "    <tr>\n",
              "      <th>1</th>\n",
              "      <td>09-06-1985</td>\n",
              "      <td>A Chorus Line</td>\n",
              "      <td>0.0</td>\n",
              "      <td>0.00</td>\n",
              "      <td>27.25</td>\n",
              "      <td>8167</td>\n",
              "      <td>1472</td>\n",
              "      <td>8</td>\n",
              "      <td>69.35</td>\n",
              "      <td>0.00</td>\n",
              "    </tr>\n",
              "    <tr>\n",
              "      <th>2</th>\n",
              "      <td>09-06-1985</td>\n",
              "      <td>Aren't We All?</td>\n",
              "      <td>0.0</td>\n",
              "      <td>0.00</td>\n",
              "      <td>33.75</td>\n",
              "      <td>7386</td>\n",
              "      <td>1088</td>\n",
              "      <td>8</td>\n",
              "      <td>84.86</td>\n",
              "      <td>0.00</td>\n",
              "    </tr>\n",
              "    <tr>\n",
              "      <th>3</th>\n",
              "      <td>09-06-1985</td>\n",
              "      <td>Arms and the Man</td>\n",
              "      <td>0.0</td>\n",
              "      <td>0.00</td>\n",
              "      <td>20.87</td>\n",
              "      <td>4586</td>\n",
              "      <td>682</td>\n",
              "      <td>8</td>\n",
              "      <td>84.05</td>\n",
              "      <td>0.00</td>\n",
              "    </tr>\n",
              "    <tr>\n",
              "      <th>4</th>\n",
              "      <td>09-06-1985</td>\n",
              "      <td>As Is</td>\n",
              "      <td>0.0</td>\n",
              "      <td>0.00</td>\n",
              "      <td>20.78</td>\n",
              "      <td>2938</td>\n",
              "      <td>684</td>\n",
              "      <td>8</td>\n",
              "      <td>53.69</td>\n",
              "      <td>0.00</td>\n",
              "    </tr>\n",
              "    <tr>\n",
              "      <th>...</th>\n",
              "      <td>...</td>\n",
              "      <td>...</td>\n",
              "      <td>...</td>\n",
              "      <td>...</td>\n",
              "      <td>...</td>\n",
              "      <td>...</td>\n",
              "      <td>...</td>\n",
              "      <td>...</td>\n",
              "      <td>...</td>\n",
              "      <td>...</td>\n",
              "    </tr>\n",
              "    <tr>\n",
              "      <th>47715</th>\n",
              "      <td>08-05-2022</td>\n",
              "      <td>The Phantom of the Opera</td>\n",
              "      <td>742308.2</td>\n",
              "      <td>117127.78</td>\n",
              "      <td>94.60</td>\n",
              "      <td>7847</td>\n",
              "      <td>1605</td>\n",
              "      <td>8</td>\n",
              "      <td>61.11</td>\n",
              "      <td>9.18</td>\n",
              "    </tr>\n",
              "    <tr>\n",
              "      <th>47716</th>\n",
              "      <td>08-05-2022</td>\n",
              "      <td>The Skin of Our Teeth</td>\n",
              "      <td>174481.0</td>\n",
              "      <td>33370.00</td>\n",
              "      <td>52.81</td>\n",
              "      <td>3304</td>\n",
              "      <td>1058</td>\n",
              "      <td>8</td>\n",
              "      <td>39.04</td>\n",
              "      <td>-8.27</td>\n",
              "    </tr>\n",
              "    <tr>\n",
              "      <th>47717</th>\n",
              "      <td>08-05-2022</td>\n",
              "      <td>Tina: The Tina Turner Musical</td>\n",
              "      <td>1065578.2</td>\n",
              "      <td>193232.80</td>\n",
              "      <td>122.56</td>\n",
              "      <td>8694</td>\n",
              "      <td>1478</td>\n",
              "      <td>8</td>\n",
              "      <td>73.53</td>\n",
              "      <td>14.13</td>\n",
              "    </tr>\n",
              "    <tr>\n",
              "      <th>47718</th>\n",
              "      <td>08-05-2022</td>\n",
              "      <td>Wicked</td>\n",
              "      <td>1341127.0</td>\n",
              "      <td>144364.00</td>\n",
              "      <td>119.06</td>\n",
              "      <td>11264</td>\n",
              "      <td>1807</td>\n",
              "      <td>8</td>\n",
              "      <td>77.92</td>\n",
              "      <td>4.53</td>\n",
              "    </tr>\n",
              "    <tr>\n",
              "      <th>47719</th>\n",
              "      <td>08-05-2022</td>\n",
              "      <td>for colored girls who have considered suicide/...</td>\n",
              "      <td>159092.9</td>\n",
              "      <td>-91081.60</td>\n",
              "      <td>65.71</td>\n",
              "      <td>2421</td>\n",
              "      <td>773</td>\n",
              "      <td>8</td>\n",
              "      <td>39.15</td>\n",
              "      <td>-11.77</td>\n",
              "    </tr>\n",
              "  </tbody>\n",
              "</table>\n",
              "<p>47720 rows × 10 columns</p>\n",
              "</div>\n",
              "      <button class=\"colab-df-convert\" onclick=\"convertToInteractive('df-f1e8c5bc-c879-4f14-9673-421ea04c568e')\"\n",
              "              title=\"Convert this dataframe to an interactive table.\"\n",
              "              style=\"display:none;\">\n",
              "        \n",
              "  <svg xmlns=\"http://www.w3.org/2000/svg\" height=\"24px\"viewBox=\"0 0 24 24\"\n",
              "       width=\"24px\">\n",
              "    <path d=\"M0 0h24v24H0V0z\" fill=\"none\"/>\n",
              "    <path d=\"M18.56 5.44l.94 2.06.94-2.06 2.06-.94-2.06-.94-.94-2.06-.94 2.06-2.06.94zm-11 1L8.5 8.5l.94-2.06 2.06-.94-2.06-.94L8.5 2.5l-.94 2.06-2.06.94zm10 10l.94 2.06.94-2.06 2.06-.94-2.06-.94-.94-2.06-.94 2.06-2.06.94z\"/><path d=\"M17.41 7.96l-1.37-1.37c-.4-.4-.92-.59-1.43-.59-.52 0-1.04.2-1.43.59L10.3 9.45l-7.72 7.72c-.78.78-.78 2.05 0 2.83L4 21.41c.39.39.9.59 1.41.59.51 0 1.02-.2 1.41-.59l7.78-7.78 2.81-2.81c.8-.78.8-2.07 0-2.86zM5.41 20L4 18.59l7.72-7.72 1.47 1.35L5.41 20z\"/>\n",
              "  </svg>\n",
              "      </button>\n",
              "      \n",
              "  <style>\n",
              "    .colab-df-container {\n",
              "      display:flex;\n",
              "      flex-wrap:wrap;\n",
              "      gap: 12px;\n",
              "    }\n",
              "\n",
              "    .colab-df-convert {\n",
              "      background-color: #E8F0FE;\n",
              "      border: none;\n",
              "      border-radius: 50%;\n",
              "      cursor: pointer;\n",
              "      display: none;\n",
              "      fill: #1967D2;\n",
              "      height: 32px;\n",
              "      padding: 0 0 0 0;\n",
              "      width: 32px;\n",
              "    }\n",
              "\n",
              "    .colab-df-convert:hover {\n",
              "      background-color: #E2EBFA;\n",
              "      box-shadow: 0px 1px 2px rgba(60, 64, 67, 0.3), 0px 1px 3px 1px rgba(60, 64, 67, 0.15);\n",
              "      fill: #174EA6;\n",
              "    }\n",
              "\n",
              "    [theme=dark] .colab-df-convert {\n",
              "      background-color: #3B4455;\n",
              "      fill: #D2E3FC;\n",
              "    }\n",
              "\n",
              "    [theme=dark] .colab-df-convert:hover {\n",
              "      background-color: #434B5C;\n",
              "      box-shadow: 0px 1px 3px 1px rgba(0, 0, 0, 0.15);\n",
              "      filter: drop-shadow(0px 1px 2px rgba(0, 0, 0, 0.3));\n",
              "      fill: #FFFFFF;\n",
              "    }\n",
              "  </style>\n",
              "\n",
              "      <script>\n",
              "        const buttonEl =\n",
              "          document.querySelector('#df-f1e8c5bc-c879-4f14-9673-421ea04c568e button.colab-df-convert');\n",
              "        buttonEl.style.display =\n",
              "          google.colab.kernel.accessAllowed ? 'block' : 'none';\n",
              "\n",
              "        async function convertToInteractive(key) {\n",
              "          const element = document.querySelector('#df-f1e8c5bc-c879-4f14-9673-421ea04c568e');\n",
              "          const dataTable =\n",
              "            await google.colab.kernel.invokeFunction('convertToInteractive',\n",
              "                                                     [key], {});\n",
              "          if (!dataTable) return;\n",
              "\n",
              "          const docLinkHtml = 'Like what you see? Visit the ' +\n",
              "            '<a target=\"_blank\" href=https://colab.research.google.com/notebooks/data_table.ipynb>data table notebook</a>'\n",
              "            + ' to learn more about interactive tables.';\n",
              "          element.innerHTML = '';\n",
              "          dataTable['output_type'] = 'display_data';\n",
              "          await google.colab.output.renderOutput(dataTable, element);\n",
              "          const docLink = document.createElement('div');\n",
              "          docLink.innerHTML = docLinkHtml;\n",
              "          element.appendChild(docLink);\n",
              "        }\n",
              "      </script>\n",
              "    </div>\n",
              "  </div>\n",
              "  "
            ]
          },
          "metadata": {},
          "execution_count": 36
        }
      ]
    },
    {
      "cell_type": "markdown",
      "source": [
        "Overview of specific data types of each columns in the dataframe"
      ],
      "metadata": {
        "id": "-k2oQ-36tfcZ"
      }
    },
    {
      "cell_type": "code",
      "source": [
        "df.dtypes"
      ],
      "metadata": {
        "colab": {
          "base_uri": "https://localhost:8080/"
        },
        "id": "lGMJhTpXtpln",
        "outputId": "be13015b-f366-456a-e4f7-7f34be5c2b82"
      },
      "execution_count": null,
      "outputs": [
        {
          "output_type": "execute_result",
          "data": {
            "text/plain": [
              "Year                 object\n",
              "Show_name            object\n",
              "Potential_Gross     float64\n",
              "Difference          float64\n",
              "Average_ticket      float64\n",
              "Seats_Sold            int64\n",
              "Seats_in_theater      int64\n",
              "Previews              int64\n",
              "%cap                float64\n",
              "diff_cap            float64\n",
              "dtype: object"
            ]
          },
          "metadata": {},
          "execution_count": 23
        }
      ]
    },
    {
      "cell_type": "markdown",
      "source": [
        "Show specific data types in dataframe"
      ],
      "metadata": {
        "id": "yn4EzpF7t9v-"
      }
    },
    {
      "cell_type": "code",
      "source": [
        "# Checking data types that are numbers\n",
        "df.select_dtypes(include=['number'])"
      ],
      "metadata": {
        "colab": {
          "base_uri": "https://localhost:8080/",
          "height": 424
        },
        "id": "wsFPaMhYuLST",
        "outputId": "1649284a-4df4-4f0b-d30b-dc863d87c931"
      },
      "execution_count": 34,
      "outputs": [
        {
          "output_type": "execute_result",
          "data": {
            "text/plain": [
              "       Potential_Gross  Difference  Average_ticket  Seats_Sold  \\\n",
              "0                  0.0        0.00           30.42        9281   \n",
              "1                  0.0        0.00           27.25        8167   \n",
              "2                  0.0        0.00           33.75        7386   \n",
              "3                  0.0        0.00           20.87        4586   \n",
              "4                  0.0        0.00           20.78        2938   \n",
              "...                ...         ...             ...         ...   \n",
              "47715         742308.2   117127.78           94.60        7847   \n",
              "47716         174481.0    33370.00           52.81        3304   \n",
              "47717        1065578.2   193232.80          122.56        8694   \n",
              "47718        1341127.0   144364.00          119.06       11264   \n",
              "47719         159092.9   -91081.60           65.71        2421   \n",
              "\n",
              "       Seats_in_theater  Previews   %cap  diff_cap  \n",
              "0                  1655         8  70.10      0.00  \n",
              "1                  1472         8  69.35      0.00  \n",
              "2                  1088         8  84.86      0.00  \n",
              "3                   682         8  84.05      0.00  \n",
              "4                   684         8  53.69      0.00  \n",
              "...                 ...       ...    ...       ...  \n",
              "47715              1605         8  61.11      9.18  \n",
              "47716              1058         8  39.04     -8.27  \n",
              "47717              1478         8  73.53     14.13  \n",
              "47718              1807         8  77.92      4.53  \n",
              "47719               773         8  39.15    -11.77  \n",
              "\n",
              "[47720 rows x 8 columns]"
            ],
            "text/html": [
              "\n",
              "  <div id=\"df-43a79170-8245-4868-a3b2-4108e5f993ed\">\n",
              "    <div class=\"colab-df-container\">\n",
              "      <div>\n",
              "<style scoped>\n",
              "    .dataframe tbody tr th:only-of-type {\n",
              "        vertical-align: middle;\n",
              "    }\n",
              "\n",
              "    .dataframe tbody tr th {\n",
              "        vertical-align: top;\n",
              "    }\n",
              "\n",
              "    .dataframe thead th {\n",
              "        text-align: right;\n",
              "    }\n",
              "</style>\n",
              "<table border=\"1\" class=\"dataframe\">\n",
              "  <thead>\n",
              "    <tr style=\"text-align: right;\">\n",
              "      <th></th>\n",
              "      <th>Potential_Gross</th>\n",
              "      <th>Difference</th>\n",
              "      <th>Average_ticket</th>\n",
              "      <th>Seats_Sold</th>\n",
              "      <th>Seats_in_theater</th>\n",
              "      <th>Previews</th>\n",
              "      <th>%cap</th>\n",
              "      <th>diff_cap</th>\n",
              "    </tr>\n",
              "  </thead>\n",
              "  <tbody>\n",
              "    <tr>\n",
              "      <th>0</th>\n",
              "      <td>0.0</td>\n",
              "      <td>0.00</td>\n",
              "      <td>30.42</td>\n",
              "      <td>9281</td>\n",
              "      <td>1655</td>\n",
              "      <td>8</td>\n",
              "      <td>70.10</td>\n",
              "      <td>0.00</td>\n",
              "    </tr>\n",
              "    <tr>\n",
              "      <th>1</th>\n",
              "      <td>0.0</td>\n",
              "      <td>0.00</td>\n",
              "      <td>27.25</td>\n",
              "      <td>8167</td>\n",
              "      <td>1472</td>\n",
              "      <td>8</td>\n",
              "      <td>69.35</td>\n",
              "      <td>0.00</td>\n",
              "    </tr>\n",
              "    <tr>\n",
              "      <th>2</th>\n",
              "      <td>0.0</td>\n",
              "      <td>0.00</td>\n",
              "      <td>33.75</td>\n",
              "      <td>7386</td>\n",
              "      <td>1088</td>\n",
              "      <td>8</td>\n",
              "      <td>84.86</td>\n",
              "      <td>0.00</td>\n",
              "    </tr>\n",
              "    <tr>\n",
              "      <th>3</th>\n",
              "      <td>0.0</td>\n",
              "      <td>0.00</td>\n",
              "      <td>20.87</td>\n",
              "      <td>4586</td>\n",
              "      <td>682</td>\n",
              "      <td>8</td>\n",
              "      <td>84.05</td>\n",
              "      <td>0.00</td>\n",
              "    </tr>\n",
              "    <tr>\n",
              "      <th>4</th>\n",
              "      <td>0.0</td>\n",
              "      <td>0.00</td>\n",
              "      <td>20.78</td>\n",
              "      <td>2938</td>\n",
              "      <td>684</td>\n",
              "      <td>8</td>\n",
              "      <td>53.69</td>\n",
              "      <td>0.00</td>\n",
              "    </tr>\n",
              "    <tr>\n",
              "      <th>...</th>\n",
              "      <td>...</td>\n",
              "      <td>...</td>\n",
              "      <td>...</td>\n",
              "      <td>...</td>\n",
              "      <td>...</td>\n",
              "      <td>...</td>\n",
              "      <td>...</td>\n",
              "      <td>...</td>\n",
              "    </tr>\n",
              "    <tr>\n",
              "      <th>47715</th>\n",
              "      <td>742308.2</td>\n",
              "      <td>117127.78</td>\n",
              "      <td>94.60</td>\n",
              "      <td>7847</td>\n",
              "      <td>1605</td>\n",
              "      <td>8</td>\n",
              "      <td>61.11</td>\n",
              "      <td>9.18</td>\n",
              "    </tr>\n",
              "    <tr>\n",
              "      <th>47716</th>\n",
              "      <td>174481.0</td>\n",
              "      <td>33370.00</td>\n",
              "      <td>52.81</td>\n",
              "      <td>3304</td>\n",
              "      <td>1058</td>\n",
              "      <td>8</td>\n",
              "      <td>39.04</td>\n",
              "      <td>-8.27</td>\n",
              "    </tr>\n",
              "    <tr>\n",
              "      <th>47717</th>\n",
              "      <td>1065578.2</td>\n",
              "      <td>193232.80</td>\n",
              "      <td>122.56</td>\n",
              "      <td>8694</td>\n",
              "      <td>1478</td>\n",
              "      <td>8</td>\n",
              "      <td>73.53</td>\n",
              "      <td>14.13</td>\n",
              "    </tr>\n",
              "    <tr>\n",
              "      <th>47718</th>\n",
              "      <td>1341127.0</td>\n",
              "      <td>144364.00</td>\n",
              "      <td>119.06</td>\n",
              "      <td>11264</td>\n",
              "      <td>1807</td>\n",
              "      <td>8</td>\n",
              "      <td>77.92</td>\n",
              "      <td>4.53</td>\n",
              "    </tr>\n",
              "    <tr>\n",
              "      <th>47719</th>\n",
              "      <td>159092.9</td>\n",
              "      <td>-91081.60</td>\n",
              "      <td>65.71</td>\n",
              "      <td>2421</td>\n",
              "      <td>773</td>\n",
              "      <td>8</td>\n",
              "      <td>39.15</td>\n",
              "      <td>-11.77</td>\n",
              "    </tr>\n",
              "  </tbody>\n",
              "</table>\n",
              "<p>47720 rows × 8 columns</p>\n",
              "</div>\n",
              "      <button class=\"colab-df-convert\" onclick=\"convertToInteractive('df-43a79170-8245-4868-a3b2-4108e5f993ed')\"\n",
              "              title=\"Convert this dataframe to an interactive table.\"\n",
              "              style=\"display:none;\">\n",
              "        \n",
              "  <svg xmlns=\"http://www.w3.org/2000/svg\" height=\"24px\"viewBox=\"0 0 24 24\"\n",
              "       width=\"24px\">\n",
              "    <path d=\"M0 0h24v24H0V0z\" fill=\"none\"/>\n",
              "    <path d=\"M18.56 5.44l.94 2.06.94-2.06 2.06-.94-2.06-.94-.94-2.06-.94 2.06-2.06.94zm-11 1L8.5 8.5l.94-2.06 2.06-.94-2.06-.94L8.5 2.5l-.94 2.06-2.06.94zm10 10l.94 2.06.94-2.06 2.06-.94-2.06-.94-.94-2.06-.94 2.06-2.06.94z\"/><path d=\"M17.41 7.96l-1.37-1.37c-.4-.4-.92-.59-1.43-.59-.52 0-1.04.2-1.43.59L10.3 9.45l-7.72 7.72c-.78.78-.78 2.05 0 2.83L4 21.41c.39.39.9.59 1.41.59.51 0 1.02-.2 1.41-.59l7.78-7.78 2.81-2.81c.8-.78.8-2.07 0-2.86zM5.41 20L4 18.59l7.72-7.72 1.47 1.35L5.41 20z\"/>\n",
              "  </svg>\n",
              "      </button>\n",
              "      \n",
              "  <style>\n",
              "    .colab-df-container {\n",
              "      display:flex;\n",
              "      flex-wrap:wrap;\n",
              "      gap: 12px;\n",
              "    }\n",
              "\n",
              "    .colab-df-convert {\n",
              "      background-color: #E8F0FE;\n",
              "      border: none;\n",
              "      border-radius: 50%;\n",
              "      cursor: pointer;\n",
              "      display: none;\n",
              "      fill: #1967D2;\n",
              "      height: 32px;\n",
              "      padding: 0 0 0 0;\n",
              "      width: 32px;\n",
              "    }\n",
              "\n",
              "    .colab-df-convert:hover {\n",
              "      background-color: #E2EBFA;\n",
              "      box-shadow: 0px 1px 2px rgba(60, 64, 67, 0.3), 0px 1px 3px 1px rgba(60, 64, 67, 0.15);\n",
              "      fill: #174EA6;\n",
              "    }\n",
              "\n",
              "    [theme=dark] .colab-df-convert {\n",
              "      background-color: #3B4455;\n",
              "      fill: #D2E3FC;\n",
              "    }\n",
              "\n",
              "    [theme=dark] .colab-df-convert:hover {\n",
              "      background-color: #434B5C;\n",
              "      box-shadow: 0px 1px 3px 1px rgba(0, 0, 0, 0.15);\n",
              "      filter: drop-shadow(0px 1px 2px rgba(0, 0, 0, 0.3));\n",
              "      fill: #FFFFFF;\n",
              "    }\n",
              "  </style>\n",
              "\n",
              "      <script>\n",
              "        const buttonEl =\n",
              "          document.querySelector('#df-43a79170-8245-4868-a3b2-4108e5f993ed button.colab-df-convert');\n",
              "        buttonEl.style.display =\n",
              "          google.colab.kernel.accessAllowed ? 'block' : 'none';\n",
              "\n",
              "        async function convertToInteractive(key) {\n",
              "          const element = document.querySelector('#df-43a79170-8245-4868-a3b2-4108e5f993ed');\n",
              "          const dataTable =\n",
              "            await google.colab.kernel.invokeFunction('convertToInteractive',\n",
              "                                                     [key], {});\n",
              "          if (!dataTable) return;\n",
              "\n",
              "          const docLinkHtml = 'Like what you see? Visit the ' +\n",
              "            '<a target=\"_blank\" href=https://colab.research.google.com/notebooks/data_table.ipynb>data table notebook</a>'\n",
              "            + ' to learn more about interactive tables.';\n",
              "          element.innerHTML = '';\n",
              "          dataTable['output_type'] = 'display_data';\n",
              "          await google.colab.output.renderOutput(dataTable, element);\n",
              "          const docLink = document.createElement('div');\n",
              "          docLink.innerHTML = docLinkHtml;\n",
              "          element.appendChild(docLink);\n",
              "        }\n",
              "      </script>\n",
              "    </div>\n",
              "  </div>\n",
              "  "
            ]
          },
          "metadata": {},
          "execution_count": 34
        }
      ]
    },
    {
      "cell_type": "code",
      "source": [
        "# Checking data types that are objects \n",
        "df.select_dtypes(include=['object'])"
      ],
      "metadata": {
        "colab": {
          "base_uri": "https://localhost:8080/",
          "height": 424
        },
        "id": "GsRLPVBnuuNA",
        "outputId": "56bcb535-15ab-4403-aff2-31eda8bb89fc"
      },
      "execution_count": 35,
      "outputs": [
        {
          "output_type": "execute_result",
          "data": {
            "text/plain": [
              "             Year                                          Show_name\n",
              "0      09-06-1985                                        42nd Street\n",
              "1      09-06-1985                                      A Chorus Line\n",
              "2      09-06-1985                                     Aren't We All?\n",
              "3      09-06-1985                                   Arms and the Man\n",
              "4      09-06-1985                                              As Is\n",
              "...           ...                                                ...\n",
              "47715  08-05-2022                           The Phantom of the Opera\n",
              "47716  08-05-2022                              The Skin of Our Teeth\n",
              "47717  08-05-2022                      Tina: The Tina Turner Musical\n",
              "47718  08-05-2022                                             Wicked\n",
              "47719  08-05-2022  for colored girls who have considered suicide/...\n",
              "\n",
              "[47720 rows x 2 columns]"
            ],
            "text/html": [
              "\n",
              "  <div id=\"df-6391bd64-c9c8-4bca-ad33-1fc40e22a581\">\n",
              "    <div class=\"colab-df-container\">\n",
              "      <div>\n",
              "<style scoped>\n",
              "    .dataframe tbody tr th:only-of-type {\n",
              "        vertical-align: middle;\n",
              "    }\n",
              "\n",
              "    .dataframe tbody tr th {\n",
              "        vertical-align: top;\n",
              "    }\n",
              "\n",
              "    .dataframe thead th {\n",
              "        text-align: right;\n",
              "    }\n",
              "</style>\n",
              "<table border=\"1\" class=\"dataframe\">\n",
              "  <thead>\n",
              "    <tr style=\"text-align: right;\">\n",
              "      <th></th>\n",
              "      <th>Year</th>\n",
              "      <th>Show_name</th>\n",
              "    </tr>\n",
              "  </thead>\n",
              "  <tbody>\n",
              "    <tr>\n",
              "      <th>0</th>\n",
              "      <td>09-06-1985</td>\n",
              "      <td>42nd Street</td>\n",
              "    </tr>\n",
              "    <tr>\n",
              "      <th>1</th>\n",
              "      <td>09-06-1985</td>\n",
              "      <td>A Chorus Line</td>\n",
              "    </tr>\n",
              "    <tr>\n",
              "      <th>2</th>\n",
              "      <td>09-06-1985</td>\n",
              "      <td>Aren't We All?</td>\n",
              "    </tr>\n",
              "    <tr>\n",
              "      <th>3</th>\n",
              "      <td>09-06-1985</td>\n",
              "      <td>Arms and the Man</td>\n",
              "    </tr>\n",
              "    <tr>\n",
              "      <th>4</th>\n",
              "      <td>09-06-1985</td>\n",
              "      <td>As Is</td>\n",
              "    </tr>\n",
              "    <tr>\n",
              "      <th>...</th>\n",
              "      <td>...</td>\n",
              "      <td>...</td>\n",
              "    </tr>\n",
              "    <tr>\n",
              "      <th>47715</th>\n",
              "      <td>08-05-2022</td>\n",
              "      <td>The Phantom of the Opera</td>\n",
              "    </tr>\n",
              "    <tr>\n",
              "      <th>47716</th>\n",
              "      <td>08-05-2022</td>\n",
              "      <td>The Skin of Our Teeth</td>\n",
              "    </tr>\n",
              "    <tr>\n",
              "      <th>47717</th>\n",
              "      <td>08-05-2022</td>\n",
              "      <td>Tina: The Tina Turner Musical</td>\n",
              "    </tr>\n",
              "    <tr>\n",
              "      <th>47718</th>\n",
              "      <td>08-05-2022</td>\n",
              "      <td>Wicked</td>\n",
              "    </tr>\n",
              "    <tr>\n",
              "      <th>47719</th>\n",
              "      <td>08-05-2022</td>\n",
              "      <td>for colored girls who have considered suicide/...</td>\n",
              "    </tr>\n",
              "  </tbody>\n",
              "</table>\n",
              "<p>47720 rows × 2 columns</p>\n",
              "</div>\n",
              "      <button class=\"colab-df-convert\" onclick=\"convertToInteractive('df-6391bd64-c9c8-4bca-ad33-1fc40e22a581')\"\n",
              "              title=\"Convert this dataframe to an interactive table.\"\n",
              "              style=\"display:none;\">\n",
              "        \n",
              "  <svg xmlns=\"http://www.w3.org/2000/svg\" height=\"24px\"viewBox=\"0 0 24 24\"\n",
              "       width=\"24px\">\n",
              "    <path d=\"M0 0h24v24H0V0z\" fill=\"none\"/>\n",
              "    <path d=\"M18.56 5.44l.94 2.06.94-2.06 2.06-.94-2.06-.94-.94-2.06-.94 2.06-2.06.94zm-11 1L8.5 8.5l.94-2.06 2.06-.94-2.06-.94L8.5 2.5l-.94 2.06-2.06.94zm10 10l.94 2.06.94-2.06 2.06-.94-2.06-.94-.94-2.06-.94 2.06-2.06.94z\"/><path d=\"M17.41 7.96l-1.37-1.37c-.4-.4-.92-.59-1.43-.59-.52 0-1.04.2-1.43.59L10.3 9.45l-7.72 7.72c-.78.78-.78 2.05 0 2.83L4 21.41c.39.39.9.59 1.41.59.51 0 1.02-.2 1.41-.59l7.78-7.78 2.81-2.81c.8-.78.8-2.07 0-2.86zM5.41 20L4 18.59l7.72-7.72 1.47 1.35L5.41 20z\"/>\n",
              "  </svg>\n",
              "      </button>\n",
              "      \n",
              "  <style>\n",
              "    .colab-df-container {\n",
              "      display:flex;\n",
              "      flex-wrap:wrap;\n",
              "      gap: 12px;\n",
              "    }\n",
              "\n",
              "    .colab-df-convert {\n",
              "      background-color: #E8F0FE;\n",
              "      border: none;\n",
              "      border-radius: 50%;\n",
              "      cursor: pointer;\n",
              "      display: none;\n",
              "      fill: #1967D2;\n",
              "      height: 32px;\n",
              "      padding: 0 0 0 0;\n",
              "      width: 32px;\n",
              "    }\n",
              "\n",
              "    .colab-df-convert:hover {\n",
              "      background-color: #E2EBFA;\n",
              "      box-shadow: 0px 1px 2px rgba(60, 64, 67, 0.3), 0px 1px 3px 1px rgba(60, 64, 67, 0.15);\n",
              "      fill: #174EA6;\n",
              "    }\n",
              "\n",
              "    [theme=dark] .colab-df-convert {\n",
              "      background-color: #3B4455;\n",
              "      fill: #D2E3FC;\n",
              "    }\n",
              "\n",
              "    [theme=dark] .colab-df-convert:hover {\n",
              "      background-color: #434B5C;\n",
              "      box-shadow: 0px 1px 3px 1px rgba(0, 0, 0, 0.15);\n",
              "      filter: drop-shadow(0px 1px 2px rgba(0, 0, 0, 0.3));\n",
              "      fill: #FFFFFF;\n",
              "    }\n",
              "  </style>\n",
              "\n",
              "      <script>\n",
              "        const buttonEl =\n",
              "          document.querySelector('#df-6391bd64-c9c8-4bca-ad33-1fc40e22a581 button.colab-df-convert');\n",
              "        buttonEl.style.display =\n",
              "          google.colab.kernel.accessAllowed ? 'block' : 'none';\n",
              "\n",
              "        async function convertToInteractive(key) {\n",
              "          const element = document.querySelector('#df-6391bd64-c9c8-4bca-ad33-1fc40e22a581');\n",
              "          const dataTable =\n",
              "            await google.colab.kernel.invokeFunction('convertToInteractive',\n",
              "                                                     [key], {});\n",
              "          if (!dataTable) return;\n",
              "\n",
              "          const docLinkHtml = 'Like what you see? Visit the ' +\n",
              "            '<a target=\"_blank\" href=https://colab.research.google.com/notebooks/data_table.ipynb>data table notebook</a>'\n",
              "            + ' to learn more about interactive tables.';\n",
              "          element.innerHTML = '';\n",
              "          dataTable['output_type'] = 'display_data';\n",
              "          await google.colab.output.renderOutput(dataTable, element);\n",
              "          const docLink = document.createElement('div');\n",
              "          docLink.innerHTML = docLinkHtml;\n",
              "          element.appendChild(docLink);\n",
              "        }\n",
              "      </script>\n",
              "    </div>\n",
              "  </div>\n",
              "  "
            ]
          },
          "metadata": {},
          "execution_count": 35
        }
      ]
    },
    {
      "cell_type": "code",
      "source": [
        "# Checking the general information of the data \n",
        "df.info()"
      ],
      "metadata": {
        "colab": {
          "base_uri": "https://localhost:8080/"
        },
        "id": "3x1ApHxBXHGu",
        "outputId": "5d6efe76-6162-49a4-ac88-d0927132e892"
      },
      "execution_count": 27,
      "outputs": [
        {
          "output_type": "stream",
          "name": "stdout",
          "text": [
            "<class 'pandas.core.frame.DataFrame'>\n",
            "RangeIndex: 47720 entries, 0 to 47719\n",
            "Data columns (total 10 columns):\n",
            " #   Column            Non-Null Count  Dtype  \n",
            "---  ------            --------------  -----  \n",
            " 0   Year              47720 non-null  object \n",
            " 1   Show_name         47694 non-null  object \n",
            " 2   Potential_Gross   47720 non-null  float64\n",
            " 3   Difference        47720 non-null  float64\n",
            " 4   Average_ticket    47720 non-null  float64\n",
            " 5   Seats_Sold        47720 non-null  int64  \n",
            " 6   Seats_in_theater  47720 non-null  int64  \n",
            " 7   Previews          47720 non-null  int64  \n",
            " 8   %cap              47720 non-null  float64\n",
            " 9   diff_cap          47720 non-null  float64\n",
            "dtypes: float64(5), int64(3), object(2)\n",
            "memory usage: 3.6+ MB\n"
          ]
        }
      ]
    },
    {
      "cell_type": "code",
      "source": [
        "# Checking for duplicated values\n",
        "print(df.duplicated().sum())"
      ],
      "metadata": {
        "colab": {
          "base_uri": "https://localhost:8080/"
        },
        "id": "d_paLYf9Xx_B",
        "outputId": "1f94dcd6-6132-457b-d258-74e5cba3d00e"
      },
      "execution_count": 28,
      "outputs": [
        {
          "output_type": "stream",
          "name": "stdout",
          "text": [
            "0\n"
          ]
        }
      ]
    },
    {
      "cell_type": "markdown",
      "source": [
        "# Finding Unique Values in a Column "
      ],
      "metadata": {
        "id": "hTg5YrdCrMuT"
      }
    },
    {
      "cell_type": "code",
      "source": [
        "df[\"Year\"].unique()"
      ],
      "metadata": {
        "colab": {
          "base_uri": "https://localhost:8080/"
        },
        "id": "yEjkPLezoFH8",
        "outputId": "7bcc2fef-1f41-4290-b207-517ad0c6ff62"
      },
      "execution_count": 30,
      "outputs": [
        {
          "output_type": "execute_result",
          "data": {
            "text/plain": [
              "array(['09-06-1985', '16-06-1985', '23-06-1985', ..., '24-04-2022',\n",
              "       '01-05-2022', '08-05-2022'], dtype=object)"
            ]
          },
          "metadata": {},
          "execution_count": 30
        }
      ]
    },
    {
      "cell_type": "code",
      "source": [
        "df[\"Show_name\"].unique()"
      ],
      "metadata": {
        "colab": {
          "base_uri": "https://localhost:8080/"
        },
        "id": "1zLl_X1MpR8n",
        "outputId": "8b275729-d781-4124-e928-7cf8de3f4985"
      },
      "execution_count": 31,
      "outputs": [
        {
          "output_type": "execute_result",
          "data": {
            "text/plain": [
              "array(['42nd Street', 'A Chorus Line', \"Aren't We All?\", ...,\n",
              "       'for colored girls who have considered suicide/when the rainbow is enuf',\n",
              "       'A Strange Loop',\n",
              "       'POTUS: Or Behind Every Great Dumbass are Seven Women Trying to Keep Him Alive'],\n",
              "      dtype=object)"
            ]
          },
          "metadata": {},
          "execution_count": 31
        }
      ]
    },
    {
      "cell_type": "code",
      "source": [
        "df[\"Potential_Gross\"].unique()"
      ],
      "metadata": {
        "colab": {
          "base_uri": "https://localhost:8080/"
        },
        "id": "N2PKSSEOprnY",
        "outputId": "7628d4a1-d07d-4d98-e810-149020df39f5"
      },
      "execution_count": 32,
      "outputs": [
        {
          "output_type": "execute_result",
          "data": {
            "text/plain": [
              "array([      0. ,  383843. ,  268382. , ..., 1065578.2, 1341127. ,\n",
              "        159092.9])"
            ]
          },
          "metadata": {},
          "execution_count": 32
        }
      ]
    },
    {
      "cell_type": "code",
      "source": [
        "df[\"Average_ticket\"].unique()"
      ],
      "metadata": {
        "colab": {
          "base_uri": "https://localhost:8080/"
        },
        "id": "KRwbwqdJp9co",
        "outputId": "9a765274-da6d-4f7a-d444-5d3b2939eb5b"
      },
      "execution_count": 33,
      "outputs": [
        {
          "output_type": "execute_result",
          "data": {
            "text/plain": [
              "array([ 30.42,  27.25,  33.75, ..., 215.16, 115.02, 282.42])"
            ]
          },
          "metadata": {},
          "execution_count": 33
        }
      ]
    },
    {
      "cell_type": "markdown",
      "source": [
        "Looking for **Outliers** -- find the counts of unique values in a column"
      ],
      "metadata": {
        "id": "F0TxrAoet59k"
      }
    },
    {
      "cell_type": "code",
      "source": [
        "df[\"Year\"].value_counts()"
      ],
      "metadata": {
        "colab": {
          "base_uri": "https://localhost:8080/"
        },
        "id": "ddIgJmOluLwR",
        "outputId": "f67fe908-a961-4baf-b1a8-a5342db801ca"
      },
      "execution_count": 39,
      "outputs": [
        {
          "output_type": "execute_result",
          "data": {
            "text/plain": [
              "09-04-2017    40\n",
              "16-04-2017    40\n",
              "16-12-2018    40\n",
              "02-06-2019    39\n",
              "03-01-2016    39\n",
              "              ..\n",
              "12-09-2021     3\n",
              "15-08-2021     1\n",
              "22-08-2021     1\n",
              "29-08-2021     1\n",
              "08-08-2021     1\n",
              "Name: Year, Length: 1850, dtype: int64"
            ]
          },
          "metadata": {},
          "execution_count": 39
        }
      ]
    },
    {
      "cell_type": "code",
      "source": [
        "df[\"Show_name\"].value_counts()"
      ],
      "metadata": {
        "colab": {
          "base_uri": "https://localhost:8080/"
        },
        "id": "BdPlNjdCujj9",
        "outputId": "d3b6763d-52f2-4f50-a19c-58e5a9699a24"
      },
      "execution_count": 40,
      "outputs": [
        {
          "output_type": "execute_result",
          "data": {
            "text/plain": [
              "The Phantom of the Opera                     1704\n",
              "Chicago                                      1250\n",
              "The Lion King                                1199\n",
              "Les Misérables                               1040\n",
              "Wicked                                        888\n",
              "                                             ... \n",
              "Senator Joe                                     1\n",
              "Criss Angel Raw — The Mindfreak Unplugged       1\n",
              "Men Are from Mars Women Are from Venus          1\n",
              "Kristin Chenoweth: For The Girls                1\n",
              "Bobbi Boland                                    1\n",
              "Name: Show_name, Length: 1130, dtype: int64"
            ]
          },
          "metadata": {},
          "execution_count": 40
        }
      ]
    },
    {
      "cell_type": "code",
      "source": [
        "df[\"Potential_Gross\"].value_counts()"
      ],
      "metadata": {
        "colab": {
          "base_uri": "https://localhost:8080/"
        },
        "id": "gaVOG8WbuybA",
        "outputId": "742827f5-64c3-4539-eae7-033da1eff6cc"
      },
      "execution_count": 41,
      "outputs": [
        {
          "output_type": "execute_result",
          "data": {
            "text/plain": [
              "0.0          11888\n",
              "528739.0       482\n",
              "1042163.0      299\n",
              "604476.0       279\n",
              "560680.0       249\n",
              "             ...  \n",
              "92158.0          1\n",
              "1045030.0        1\n",
              "878335.0         1\n",
              "645103.0         1\n",
              "159092.9         1\n",
              "Name: Potential_Gross, Length: 6256, dtype: int64"
            ]
          },
          "metadata": {},
          "execution_count": 41
        }
      ]
    },
    {
      "cell_type": "code",
      "source": [
        "df[\"Difference\"].value_counts()"
      ],
      "metadata": {
        "colab": {
          "base_uri": "https://localhost:8080/"
        },
        "id": "MGkzVEdJvAN3",
        "outputId": "595aa7fa-620c-47a6-d4f9-fd6d74ad0fd5"
      },
      "execution_count": 42,
      "outputs": [
        {
          "output_type": "execute_result",
          "data": {
            "text/plain": [
              " 0.0         2208\n",
              "-6205.0         5\n",
              " 3364.0         5\n",
              "-4982.0         5\n",
              " 18711.0        5\n",
              "             ... \n",
              " 38533.0        1\n",
              "-135204.0       1\n",
              "-50639.0        1\n",
              " 7992.0         1\n",
              "-91081.6        1\n",
              "Name: Difference, Length: 41445, dtype: int64"
            ]
          },
          "metadata": {},
          "execution_count": 42
        }
      ]
    },
    {
      "cell_type": "code",
      "source": [
        "df[\"Average_ticket\"].value_counts()"
      ],
      "metadata": {
        "colab": {
          "base_uri": "https://localhost:8080/"
        },
        "id": "kPWvLLefvHf8",
        "outputId": "a369afd8-5ea5-432f-b323-b3b64c22e371"
      },
      "execution_count": 43,
      "outputs": [
        {
          "output_type": "execute_result",
          "data": {
            "text/plain": [
              "0.00      125\n",
              "8.33       19\n",
              "52.23      18\n",
              "41.11      18\n",
              "39.82      17\n",
              "         ... \n",
              "108.80      1\n",
              "191.28      1\n",
              "157.61      1\n",
              "144.89      1\n",
              "282.42      1\n",
              "Name: Average_ticket, Length: 13080, dtype: int64"
            ]
          },
          "metadata": {},
          "execution_count": 43
        }
      ]
    },
    {
      "cell_type": "code",
      "source": [
        "df[\"Seats_Sold\"].value_counts()"
      ],
      "metadata": {
        "colab": {
          "base_uri": "https://localhost:8080/"
        },
        "id": "--0DpOzuvV9l",
        "outputId": "4f5257d9-4949-4707-d9dd-d449f07f7d01"
      },
      "execution_count": 45,
      "outputs": [
        {
          "output_type": "execute_result",
          "data": {
            "text/plain": [
              "13096    313\n",
              "14472    257\n",
              "8752     169\n",
              "0        125\n",
              "12976     97\n",
              "        ... \n",
              "12224      1\n",
              "2475       1\n",
              "4220       1\n",
              "12213      1\n",
              "4004       1\n",
              "Name: Seats_Sold, Length: 12343, dtype: int64"
            ]
          },
          "metadata": {},
          "execution_count": 45
        }
      ]
    },
    {
      "cell_type": "code",
      "source": [
        "df[\"Seats_in_theater\"].value_counts()"
      ],
      "metadata": {
        "colab": {
          "base_uri": "https://localhost:8080/"
        },
        "id": "nGTvqSuKvkR_",
        "outputId": "c46d3c22-908c-43fa-fd26-4815e942e52b"
      },
      "execution_count": 46,
      "outputs": [
        {
          "output_type": "execute_result",
          "data": {
            "text/plain": [
              "1080    959\n",
              "1482    800\n",
              "499     765\n",
              "1498    621\n",
              "1181    599\n",
              "       ... \n",
              "701       1\n",
              "1325      1\n",
              "1304      1\n",
              "1506      1\n",
              "982       1\n",
              "Name: Seats_in_theater, Length: 721, dtype: int64"
            ]
          },
          "metadata": {},
          "execution_count": 46
        }
      ]
    },
    {
      "cell_type": "code",
      "source": [
        "df[\"Previews\"].value_counts()"
      ],
      "metadata": {
        "colab": {
          "base_uri": "https://localhost:8080/"
        },
        "id": "vpz5HaLEvwl_",
        "outputId": "e83e3645-34a3-4dfb-cb7f-aa4f5d24466f"
      },
      "execution_count": 47,
      "outputs": [
        {
          "output_type": "execute_result",
          "data": {
            "text/plain": [
              "8     39803\n",
              "0      3610\n",
              "7      1677\n",
              "6       623\n",
              "5       576\n",
              "      ...  \n",
              "15        5\n",
              "16        3\n",
              "13        2\n",
              "14        1\n",
              "17        1\n",
              "Name: Previews, Length: 18, dtype: int64"
            ]
          },
          "metadata": {},
          "execution_count": 47
        }
      ]
    },
    {
      "cell_type": "code",
      "source": [
        "df[\"%cap\"].value_counts()"
      ],
      "metadata": {
        "colab": {
          "base_uri": "https://localhost:8080/"
        },
        "id": "UuHZ0MrEv8fq",
        "outputId": "3e775b68-beab-4a80-c075-1639abeaa19a"
      },
      "execution_count": 48,
      "outputs": [
        {
          "output_type": "execute_result",
          "data": {
            "text/plain": [
              "100.00    985\n",
              "101.74    329\n",
              "102.63    165\n",
              "0.00      133\n",
              "100.02    106\n",
              "         ... \n",
              "13.35       1\n",
              "7.47        1\n",
              "36.17       1\n",
              "48.22       1\n",
              "39.04       1\n",
              "Name: %cap, Length: 6854, dtype: int64"
            ]
          },
          "metadata": {},
          "execution_count": 48
        }
      ]
    },
    {
      "cell_type": "code",
      "source": [
        "df[\"diff_cap\"].value_counts()"
      ],
      "metadata": {
        "colab": {
          "base_uri": "https://localhost:8080/"
        },
        "id": "axbqWk-1wFEM",
        "outputId": "65cdedc7-4eba-4700-a8bf-c4a60296e3f0"
      },
      "execution_count": 49,
      "outputs": [
        {
          "output_type": "execute_result",
          "data": {
            "text/plain": [
              " 0.00     3706\n",
              " 0.01      155\n",
              " 0.02      151\n",
              "-0.01      144\n",
              "-0.02      134\n",
              "          ... \n",
              "-24.70       1\n",
              " 14.68       1\n",
              "-12.16       1\n",
              "-26.09       1\n",
              " 27.01       1\n",
              "Name: diff_cap, Length: 5270, dtype: int64"
            ]
          },
          "metadata": {},
          "execution_count": 49
        }
      ]
    },
    {
      "cell_type": "markdown",
      "source": [
        "Find the null values in the dataframe"
      ],
      "metadata": {
        "id": "Ayj0xGwAwuXo"
      }
    },
    {
      "cell_type": "code",
      "source": [
        "df.isnull().sum()"
      ],
      "metadata": {
        "colab": {
          "base_uri": "https://localhost:8080/"
        },
        "id": "B0q1KJvMw4GQ",
        "outputId": "ab41469e-254f-4b1b-ec4c-8a14a136f685"
      },
      "execution_count": 50,
      "outputs": [
        {
          "output_type": "execute_result",
          "data": {
            "text/plain": [
              "Year                 0\n",
              "Show_name           26\n",
              "Potential_Gross      0\n",
              "Difference           0\n",
              "Average_ticket       0\n",
              "Seats_Sold           0\n",
              "Seats_in_theater     0\n",
              "Previews             0\n",
              "%cap                 0\n",
              "diff_cap             0\n",
              "dtype: int64"
            ]
          },
          "metadata": {},
          "execution_count": 50
        }
      ]
    },
    {
      "cell_type": "markdown",
      "source": [
        "Filling Null Values with Zeros (to get rid of the null values in dataset)"
      ],
      "metadata": {
        "id": "iTKwPKsRxlH9"
      }
    },
    {
      "cell_type": "code",
      "source": [
        "df.replace(np.nan, \"0\", inplace = True)"
      ],
      "metadata": {
        "id": "izL8q6k8x0vJ"
      },
      "execution_count": 53,
      "outputs": []
    },
    {
      "cell_type": "markdown",
      "source": [
        "Filter Rows in Dataframe / Conditionals"
      ],
      "metadata": {
        "id": "EmxstnjQ0LC-"
      }
    },
    {
      "cell_type": "code",
      "source": [
        "# Which show_name sold more than 100 tickets per week?\n",
        "# Which show_name sold less than 50 seats_in_theater per week?\n",
        "# Which show_names had equal to 60 Previews?\n",
        "# # # ???\n",
        "\n",
        "df2 = df[df[\"column_name\"]> 100]"
      ],
      "metadata": {
        "id": "5S4FTa5Cy-jH"
      },
      "execution_count": 54,
      "outputs": []
    },
    {
      "cell_type": "markdown",
      "source": [
        "Creating a box plot"
      ],
      "metadata": {
        "id": "pjdzDPxZ4v8r"
      }
    },
    {
      "cell_type": "code",
      "source": [
        "df.boxplot()"
      ],
      "metadata": {
        "colab": {
          "base_uri": "https://localhost:8080/",
          "height": 295
        },
        "id": "t0xuc3wK0JoG",
        "outputId": "fecc5d32-b4ca-47f6-c9e3-17b8ecde7093"
      },
      "execution_count": 59,
      "outputs": [
        {
          "output_type": "execute_result",
          "data": {
            "text/plain": [
              "<matplotlib.axes._subplots.AxesSubplot at 0x7fba8ebf5dd0>"
            ]
          },
          "metadata": {},
          "execution_count": 59
        },
        {
          "output_type": "display_data",
          "data": {
            "text/plain": [
              "<Figure size 432x288 with 1 Axes>"
            ],
            "image/png": "[encoded data removed]"
          },
          "metadata": {
            "needs_background": "light"
          }
        }
      ]
    },
    {
      "cell_type": "code",
      "source": [
        "## Correlation Matrix\n",
        "\n",
        "df.corr()"
      ],
      "metadata": {
        "colab": {
          "base_uri": "https://localhost:8080/",
          "height": 300
        },
        "id": "BmrKNoQ69AQW",
        "outputId": "0dfe4924-535d-4710-d6a8-811291d39380"
      },
      "execution_count": 65,
      "outputs": [
        {
          "output_type": "execute_result",
          "data": {
            "text/plain": [
              "                  Potential_Gross  Difference  Average_ticket  Seats_Sold  \\\n",
              "Potential_Gross          1.000000    0.053014        0.754010    0.418316   \n",
              "Difference               0.053014    1.000000        0.071276    0.105387   \n",
              "Average_ticket           0.754010    0.071276        1.000000    0.294234   \n",
              "Seats_Sold               0.418316    0.105387        0.294234    1.000000   \n",
              "Seats_in_theater         0.348914   -0.000990        0.127536    0.813715   \n",
              "Previews                 0.118539   -0.022442        0.081916    0.273270   \n",
              "%cap                     0.261734    0.136895        0.433627    0.624197   \n",
              "diff_cap                 0.007795    0.483131        0.015994    0.130499   \n",
              "\n",
              "                  Seats_in_theater  Previews      %cap  diff_cap  \n",
              "Potential_Gross           0.348914  0.118539  0.261734  0.007795  \n",
              "Difference               -0.000990 -0.022442  0.136895  0.483131  \n",
              "Average_ticket            0.127536  0.081916  0.433627  0.015994  \n",
              "Seats_Sold                0.813715  0.273270  0.624197  0.130499  \n",
              "Seats_in_theater          1.000000  0.177093  0.178640  0.008952  \n",
              "Previews                  0.177093  1.000000  0.066695  0.011434  \n",
              "%cap                      0.178640  0.066695  1.000000  0.257901  \n",
              "diff_cap                  0.008952  0.011434  0.257901  1.000000  "
            ],
            "text/html": [
              "\n",
              "  <div id=\"df-4395da0c-552e-48c3-8dc6-8d04702a7ecb\">\n",
              "    <div class=\"colab-df-container\">\n",
              "      <div>\n",
              "<style scoped>\n",
              "    .dataframe tbody tr th:only-of-type {\n",
              "        vertical-align: middle;\n",
              "    }\n",
              "\n",
              "    .dataframe tbody tr th {\n",
              "        vertical-align: top;\n",
              "    }\n",
              "\n",
              "    .dataframe thead th {\n",
              "        text-align: right;\n",
              "    }\n",
              "</style>\n",
              "<table border=\"1\" class=\"dataframe\">\n",
              "  <thead>\n",
              "    <tr style=\"text-align: right;\">\n",
              "      <th></th>\n",
              "      <th>Potential_Gross</th>\n",
              "      <th>Difference</th>\n",
              "      <th>Average_ticket</th>\n",
              "      <th>Seats_Sold</th>\n",
              "      <th>Seats_in_theater</th>\n",
              "      <th>Previews</th>\n",
              "      <th>%cap</th>\n",
              "      <th>diff_cap</th>\n",
              "    </tr>\n",
              "  </thead>\n",
              "  <tbody>\n",
              "    <tr>\n",
              "      <th>Potential_Gross</th>\n",
              "      <td>1.000000</td>\n",
              "      <td>0.053014</td>\n",
              "      <td>0.754010</td>\n",
              "      <td>0.418316</td>\n",
              "      <td>0.348914</td>\n",
              "      <td>0.118539</td>\n",
              "      <td>0.261734</td>\n",
              "      <td>0.007795</td>\n",
              "    </tr>\n",
              "    <tr>\n",
              "      <th>Difference</th>\n",
              "      <td>0.053014</td>\n",
              "      <td>1.000000</td>\n",
              "      <td>0.071276</td>\n",
              "      <td>0.105387</td>\n",
              "      <td>-0.000990</td>\n",
              "      <td>-0.022442</td>\n",
              "      <td>0.136895</td>\n",
              "      <td>0.483131</td>\n",
              "    </tr>\n",
              "    <tr>\n",
              "      <th>Average_ticket</th>\n",
              "      <td>0.754010</td>\n",
              "      <td>0.071276</td>\n",
              "      <td>1.000000</td>\n",
              "      <td>0.294234</td>\n",
              "      <td>0.127536</td>\n",
              "      <td>0.081916</td>\n",
              "      <td>0.433627</td>\n",
              "      <td>0.015994</td>\n",
              "    </tr>\n",
              "    <tr>\n",
              "      <th>Seats_Sold</th>\n",
              "      <td>0.418316</td>\n",
              "      <td>0.105387</td>\n",
              "      <td>0.294234</td>\n",
              "      <td>1.000000</td>\n",
              "      <td>0.813715</td>\n",
              "      <td>0.273270</td>\n",
              "      <td>0.624197</td>\n",
              "      <td>0.130499</td>\n",
              "    </tr>\n",
              "    <tr>\n",
              "      <th>Seats_in_theater</th>\n",
              "      <td>0.348914</td>\n",
              "      <td>-0.000990</td>\n",
              "      <td>0.127536</td>\n",
              "      <td>0.813715</td>\n",
              "      <td>1.000000</td>\n",
              "      <td>0.177093</td>\n",
              "      <td>0.178640</td>\n",
              "      <td>0.008952</td>\n",
              "    </tr>\n",
              "    <tr>\n",
              "      <th>Previews</th>\n",
              "      <td>0.118539</td>\n",
              "      <td>-0.022442</td>\n",
              "      <td>0.081916</td>\n",
              "      <td>0.273270</td>\n",
              "      <td>0.177093</td>\n",
              "      <td>1.000000</td>\n",
              "      <td>0.066695</td>\n",
              "      <td>0.011434</td>\n",
              "    </tr>\n",
              "    <tr>\n",
              "      <th>%cap</th>\n",
              "      <td>0.261734</td>\n",
              "      <td>0.136895</td>\n",
              "      <td>0.433627</td>\n",
              "      <td>0.624197</td>\n",
              "      <td>0.178640</td>\n",
              "      <td>0.066695</td>\n",
              "      <td>1.000000</td>\n",
              "      <td>0.257901</td>\n",
              "    </tr>\n",
              "    <tr>\n",
              "      <th>diff_cap</th>\n",
              "      <td>0.007795</td>\n",
              "      <td>0.483131</td>\n",
              "      <td>0.015994</td>\n",
              "      <td>0.130499</td>\n",
              "      <td>0.008952</td>\n",
              "      <td>0.011434</td>\n",
              "      <td>0.257901</td>\n",
              "      <td>1.000000</td>\n",
              "    </tr>\n",
              "  </tbody>\n",
              "</table>\n",
              "</div>\n",
              "      <button class=\"colab-df-convert\" onclick=\"convertToInteractive('df-4395da0c-552e-48c3-8dc6-8d04702a7ecb')\"\n",
              "              title=\"Convert this dataframe to an interactive table.\"\n",
              "              style=\"display:none;\">\n",
              "        \n",
              "  <svg xmlns=\"http://www.w3.org/2000/svg\" height=\"24px\"viewBox=\"0 0 24 24\"\n",
              "       width=\"24px\">\n",
              "    <path d=\"M0 0h24v24H0V0z\" fill=\"none\"/>\n",
              "    <path d=\"M18.56 5.44l.94 2.06.94-2.06 2.06-.94-2.06-.94-.94-2.06-.94 2.06-2.06.94zm-11 1L8.5 8.5l.94-2.06 2.06-.94-2.06-.94L8.5 2.5l-.94 2.06-2.06.94zm10 10l.94 2.06.94-2.06 2.06-.94-2.06-.94-.94-2.06-.94 2.06-2.06.94z\"/><path d=\"M17.41 7.96l-1.37-1.37c-.4-.4-.92-.59-1.43-.59-.52 0-1.04.2-1.43.59L10.3 9.45l-7.72 7.72c-.78.78-.78 2.05 0 2.83L4 21.41c.39.39.9.59 1.41.59.51 0 1.02-.2 1.41-.59l7.78-7.78 2.81-2.81c.8-.78.8-2.07 0-2.86zM5.41 20L4 18.59l7.72-7.72 1.47 1.35L5.41 20z\"/>\n",
              "  </svg>\n",
              "      </button>\n",
              "      \n",
              "  <style>\n",
              "    .colab-df-container {\n",
              "      display:flex;\n",
              "      flex-wrap:wrap;\n",
              "      gap: 12px;\n",
              "    }\n",
              "\n",
              "    .colab-df-convert {\n",
              "      background-color: #E8F0FE;\n",
              "      border: none;\n",
              "      border-radius: 50%;\n",
              "      cursor: pointer;\n",
              "      display: none;\n",
              "      fill: #1967D2;\n",
              "      height: 32px;\n",
              "      padding: 0 0 0 0;\n",
              "      width: 32px;\n",
              "    }\n",
              "\n",
              "    .colab-df-convert:hover {\n",
              "      background-color: #E2EBFA;\n",
              "      box-shadow: 0px 1px 2px rgba(60, 64, 67, 0.3), 0px 1px 3px 1px rgba(60, 64, 67, 0.15);\n",
              "      fill: #174EA6;\n",
              "    }\n",
              "\n",
              "    [theme=dark] .colab-df-convert {\n",
              "      background-color: #3B4455;\n",
              "      fill: #D2E3FC;\n",
              "    }\n",
              "\n",
              "    [theme=dark] .colab-df-convert:hover {\n",
              "      background-color: #434B5C;\n",
              "      box-shadow: 0px 1px 3px 1px rgba(0, 0, 0, 0.15);\n",
              "      filter: drop-shadow(0px 1px 2px rgba(0, 0, 0, 0.3));\n",
              "      fill: #FFFFFF;\n",
              "    }\n",
              "  </style>\n",
              "\n",
              "      <script>\n",
              "        const buttonEl =\n",
              "          document.querySelector('#df-4395da0c-552e-48c3-8dc6-8d04702a7ecb button.colab-df-convert');\n",
              "        buttonEl.style.display =\n",
              "          google.colab.kernel.accessAllowed ? 'block' : 'none';\n",
              "\n",
              "        async function convertToInteractive(key) {\n",
              "          const element = document.querySelector('#df-4395da0c-552e-48c3-8dc6-8d04702a7ecb');\n",
              "          const dataTable =\n",
              "            await google.colab.kernel.invokeFunction('convertToInteractive',\n",
              "                                                     [key], {});\n",
              "          if (!dataTable) return;\n",
              "\n",
              "          const docLinkHtml = 'Like what you see? Visit the ' +\n",
              "            '<a target=\"_blank\" href=https://colab.research.google.com/notebooks/data_table.ipynb>data table notebook</a>'\n",
              "            + ' to learn more about interactive tables.';\n",
              "          element.innerHTML = '';\n",
              "          dataTable['output_type'] = 'display_data';\n",
              "          await google.colab.output.renderOutput(dataTable, element);\n",
              "          const docLink = document.createElement('div');\n",
              "          docLink.innerHTML = docLinkHtml;\n",
              "          element.appendChild(docLink);\n",
              "        }\n",
              "      </script>\n",
              "    </div>\n",
              "  </div>\n",
              "  "
            ]
          },
          "metadata": {},
          "execution_count": 65
        }
      ]
    },
    {
      "cell_type": "markdown",
      "source": [
        "# Questions "
      ],
      "metadata": {
        "id": "n_6Xy4Zftet-"
      }
    }
  ]
}